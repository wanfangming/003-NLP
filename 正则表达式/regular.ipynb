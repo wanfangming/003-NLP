{
 "cells": [
  {
   "cell_type": "code",
   "execution_count": null,
   "metadata": {},
   "outputs": [],
   "source": [
    "# 因正则表达式需要背诵的小技巧太多所以将菜鸟教程中关于这一章的网址贴在这里以便随时翻阅\n",
    "\n",
    "https://www.runoob.com/python/python-reg-expressions.html"
   ]
  },
  {
   "cell_type": "code",
   "execution_count": 23,
   "metadata": {},
   "outputs": [
    {
     "data": {
      "text/plain": [
       "['row', 'fox', 'dog']"
      ]
     },
     "execution_count": 23,
     "metadata": {},
     "output_type": "execute_result"
    }
   ],
   "source": [
    "# 英文正则表达式基本用法\n",
    "import re\n",
    "\n",
    "str = 'The quick brown fox jumps over the lazy dog'\n",
    "\n",
    "pttn = re.compile('\\wo\\w')\n",
    "re.findall(pttn, str)\n",
    "\n",
    "pttn2 = re.compile('')"
   ]
  },
  {
   "cell_type": "code",
   "execution_count": 54,
   "metadata": {},
   "outputs": [
    {
     "name": "stdout",
     "output_type": "stream",
     "text": [
      "['我是个好人。']\n",
      "['我是个好']\n"
     ]
    }
   ],
   "source": [
    "# 中文正则表达式基本用法\n",
    "# string和pttn前面都需要加u，表示utf-8\n",
    "\n",
    "import re\n",
    " \n",
    "string = u'我是个好人。'\n",
    "\n",
    "pttn = re.compile(u'\\u6211.*\\u3002')\n",
    "print(pttn.findall(string))\n",
    "\n",
    "pttn2 = re.compile(u'\\u6211.\\D\\D')\n",
    "print(pttn2.findall(string))"
   ]
  },
  {
   "cell_type": "code",
   "execution_count": 91,
   "metadata": {},
   "outputs": [
    {
     "name": "stdout",
     "output_type": "stream",
     "text": [
      "938 (726, 732)\n",
      "{'py': 'python'}\n"
     ]
    }
   ],
   "source": [
    "# search方法返回匹配字符串的位置，可以在输出前加\n",
    "# (?P<>)以及groupdict()的用法\n",
    "import re\n",
    "with open('regu_test.txt', 'r') as f:\n",
    "    str = f.read()\n",
    "\n",
    "pttn = r'[Pp]ython'\n",
    "# re.findall(pttn, str)\n",
    "\n",
    "# pttn2 = r'/'\n",
    "# re.findall(pttn2, str)\n",
    "\n",
    "a = re.search(pttn, str, flags=0).span()\n",
    "print(len(str), a)\n",
    "\n",
    "res = re.search('(?P<py>[Pp]ython)', str)\n",
    "print(res.groupdict())"
   ]
  },
  {
   "cell_type": "code",
   "execution_count": 80,
   "metadata": {},
   "outputs": [
    {
     "name": "stdout",
     "output_type": "stream",
     "text": [
      "{'province': '11', 'city': '022', 'born_year': '3199'}\n"
     ]
    }
   ],
   "source": [
    "import re\n",
    "string = '1102231990xxxxxxxx'\n",
    "res = re.search('(?P<province>\\d{2})(?P<city>\\d{3})(?P<born_year>\\d{4})',string)\n",
    "print(res.groupdict())"
   ]
  },
  {
   "cell_type": "code",
   "execution_count": 78,
   "metadata": {},
   "outputs": [
    {
     "name": "stdout",
     "output_type": "stream",
     "text": [
      "{'province': '110', 'city': '223', 'born_year': '1990'}\n"
     ]
    }
   ],
   "source": [
    "import re\n",
    "string = '1102231990xxxxxxxx'\n",
    "res = re.search('(?P<province>\\d{3})(?P<city>\\d{3})(?P<born_year>\\d{4})',string)\n",
    "print(res.groupdict())"
   ]
  },
  {
   "cell_type": "code",
   "execution_count": null,
   "metadata": {},
   "outputs": [],
   "source": []
  }
 ],
 "metadata": {
  "kernelspec": {
   "display_name": "Python 3",
   "language": "python",
   "name": "python3"
  },
  "language_info": {
   "codemirror_mode": {
    "name": "ipython",
    "version": 3
   },
   "file_extension": ".py",
   "mimetype": "text/x-python",
   "name": "python",
   "nbconvert_exporter": "python",
   "pygments_lexer": "ipython3",
   "version": "3.6.7"
  }
 },
 "nbformat": 4,
 "nbformat_minor": 2
}
