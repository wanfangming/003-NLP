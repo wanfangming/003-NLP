{
 "cells": [
  {
   "cell_type": "code",
   "execution_count": 61,
   "metadata": {},
   "outputs": [
    {
     "name": "stdout",
     "output_type": "stream",
     "text": [
      "loss:  5.356382\n",
      "loss:  0.01376455\n",
      "loss:  0.012057854\n",
      "loss:  0.012055984\n",
      "loss:  0.0120546585\n",
      "loss:  0.01205333\n"
     ]
    }
   ],
   "source": [
    "%matplotlib notebook\n",
    "from keras.models import Sequential\n",
    "from keras.layers import Dense, Activation\n",
    "from keras.optimizers import Adam\n",
    "import keras\n",
    "import numpy as np\n",
    "import pandas as pd\n",
    "from sklearn.model_selection import train_test_split\n",
    "import locale\n",
    "import matplotlib.pyplot as plt\n",
    "\n",
    "\n",
    "data = pd.read_excel('life的副本.xlsx')\n",
    "\n",
    "\n",
    "model = Sequential()\n",
    "model.add(Dense(units = 1, input_dim = 1))\n",
    "\n",
    "# 选择损失函数和优化方法\n",
    "model.compile(loss = 'mse', optimizer = 'sgd')\n",
    "\n",
    "\n",
    "(train, test) = train_test_split(data, test_size=0.2, random_state=42)\n",
    "\n",
    "\n",
    "max_old = train['old'].max()\n",
    "trainY = train['old'] / max_old\n",
    "testY = test['old'] / max_old\n",
    "\n",
    "max_date = train['date'].max()\n",
    "trainX = train['date'] / max_date\n",
    "testX = test['date'] / max_date\n",
    "\n",
    "for step in range(501):\n",
    "    # 进行训练, 返回损失(代价)函数\n",
    "    cost = model.train_on_batch(trainX, trainY)\n",
    "    if step % 100 == 0:\n",
    "        print('loss: ', cost)"
   ]
  },
  {
   "cell_type": "code",
   "execution_count": 62,
   "metadata": {},
   "outputs": [
    {
     "name": "stdout",
     "output_type": "stream",
     "text": [
      "Weights:  [[-0.29424655]]\n",
      "Biases:  [1.1679667]\n"
     ]
    }
   ],
   "source": [
    "W, b = model.layers[0].get_weights()\n",
    "print('Weights: ',W)\n",
    "print('Biases: ', b)"
   ]
  },
  {
   "cell_type": "code",
   "execution_count": 63,
   "metadata": {},
   "outputs": [],
   "source": [
    "def get_year(year_list, w, b):\n",
    "    year_li = []\n",
    "    for year in year_list:\n",
    "        year_li.append(str((year / 2017 * w + b) * 76.41))\n",
    "    return year_li"
   ]
  },
  {
   "cell_type": "code",
   "execution_count": 64,
   "metadata": {},
   "outputs": [
    {
     "name": "stdout",
     "output_type": "stream",
     "text": [
      "['[[67.39633]]', '[[67.38519]]', '[[67.37405]]', '[[67.3629]]', '[[67.351746]]', '[[67.34061]]', '[[67.32945]]', '[[67.318306]]', '[[67.30716]]', '[[67.29601]]', '[[67.284874]]', '[[67.27372]]', '[[67.26257]]', '[[67.25143]]', '[[67.24028]]', '[[67.22913]]', '[[67.21799]]', '[[67.20683]]', '[[67.195694]]', '[[67.18455]]', '[[67.1734]]', '[[67.16225]]', '[[67.15111]]', '[[67.13996]]', '[[67.12881]]', '[[67.11766]]', '[[67.106514]]', '[[67.095375]]', '[[67.08422]]', '[[67.073074]]', '[[67.06193]]', '[[67.05078]]', '[[67.039635]]', '[[67.02849]]', '[[67.01734]]', '[[67.006195]]', '[[66.99505]]', '[[66.9839]]', '[[66.97275]]', '[[66.9616]]', '[[66.95046]]', '[[66.93931]]', '[[66.92817]]', '[[66.91702]]', '[[66.905876]]', '[[66.89472]]', '[[66.883575]]', '[[66.87243]]', '[[66.86128]]', '[[66.850136]]', '[[66.83899]]', '[[66.82784]]', '[[66.816696]]', '[[66.80555]]', '[[66.7944]]', '[[66.78326]]', '[[66.77211]]', '[[66.76096]]', '[[66.74981]]', '[[66.73867]]', '[[66.72752]]', '[[66.71638]]', '[[66.70522]]', '[[66.69408]]', '[[66.68293]]', '[[66.67178]]', '[[66.66064]]', '[[66.64949]]', '[[66.63835]]', '[[66.6272]]', '[[66.61605]]', '[[66.604904]]', '[[66.59376]]', '[[66.58261]]', '[[66.571465]]', '[[66.56032]]', '[[66.54917]]', '[[66.538025]]', '[[66.52688]]', '[[66.515724]]', '[[66.50458]]', '[[66.49344]]', '[[66.482285]]', '[[66.47114]]', '[[66.45999]]', '[[66.44885]]', '[[66.4377]]', '[[66.42655]]', '[[66.415405]]', '[[66.40426]]', '[[66.39311]]', '[[66.381966]]', '[[66.37082]]', '[[66.35967]]', '[[66.348526]]', '[[66.33737]]', '[[66.32623]]', '[[66.31509]]', '[[66.30394]]', '[[66.292786]]', '[[66.28165]]', '[[66.2705]]', '[[66.259346]]', '[[66.2482]]', '[[66.23705]]']\n"
     ]
    }
   ],
   "source": [
    "year_list = np.arange(1960, 2065, 1)\n",
    "\n",
    "\n",
    "print(get_year(year_list, W, b))"
   ]
  },
  {
   "cell_type": "code",
   "execution_count": 20,
   "metadata": {},
   "outputs": [],
   "source": [
    "pred = model.predict(testX)"
   ]
  },
  {
   "cell_type": "code",
   "execution_count": 56,
   "metadata": {},
   "outputs": [
    {
     "data": {
      "text/plain": [
       "array([[-0.6648699 ],\n",
       "       [-0.66659206],\n",
       "       [-0.6765799 ],\n",
       "       [-0.6693472 ],\n",
       "       [-0.68002397],\n",
       "       [-0.6827792 ],\n",
       "       [-0.6776131 ],\n",
       "       [-0.67348015],\n",
       "       [-0.6807128 ],\n",
       "       [-0.6690028 ],\n",
       "       [-0.68140167],\n",
       "       [-0.6659031 ]], dtype=float32)"
      ]
     },
     "execution_count": 56,
     "metadata": {},
     "output_type": "execute_result"
    }
   ],
   "source": [
    "pred"
   ]
  },
  {
   "cell_type": "code",
   "execution_count": 57,
   "metadata": {},
   "outputs": [
    {
     "data": {
      "text/plain": [
       "array([[-50.80271 ],\n",
       "       [-50.934303],\n",
       "       [-51.69747 ],\n",
       "       [-51.144825],\n",
       "       [-51.960632],\n",
       "       [-52.17116 ],\n",
       "       [-51.776417],\n",
       "       [-51.46062 ],\n",
       "       [-52.013268],\n",
       "       [-51.118504],\n",
       "       [-52.065903],\n",
       "       [-50.881657]], dtype=float32)"
      ]
     },
     "execution_count": 57,
     "metadata": {},
     "output_type": "execute_result"
    }
   ],
   "source": [
    "pred * max_old"
   ]
  },
  {
   "cell_type": "code",
   "execution_count": null,
   "metadata": {},
   "outputs": [],
   "source": []
  }
 ],
 "metadata": {
  "kernelspec": {
   "display_name": "Python 3",
   "language": "python",
   "name": "python3"
  },
  "language_info": {
   "codemirror_mode": {
    "name": "ipython",
    "version": 3
   },
   "file_extension": ".py",
   "mimetype": "text/x-python",
   "name": "python",
   "nbconvert_exporter": "python",
   "pygments_lexer": "ipython3",
   "version": "3.6.7"
  }
 },
 "nbformat": 4,
 "nbformat_minor": 2
}
