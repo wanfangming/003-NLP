{
 "cells": [
  {
   "cell_type": "code",
   "execution_count": 2,
   "metadata": {},
   "outputs": [],
   "source": [
    "import re\n",
    "from datetime import datetime, timedelta\n",
    "from dateutil.parser import parse\n",
    "import jieba.posseg as psg"
   ]
  },
  {
   "cell_type": "code",
   "execution_count": 22,
   "metadata": {},
   "outputs": [],
   "source": [
    "# 主程序\n",
    "def time_extract(text):\n",
    "    time_res = []\n",
    "    word = ''\n",
    "    keyDate = {'今天': 0, '明天': 1, '后天': 2}\n",
    "    for k, v in psg.cut(text):  # 按字典格式输出，前面是词，后面是词性\n",
    "        if k in keyDate:\n",
    "            if word != '':\n",
    "                time_res.append(word)\n",
    "            word = (datetime.today() + timedelta(days=keyDate.get(k, 0))).strftime('%Y年%m月%d日')  # 获取当前的时间再加上获取到的时间（没有获取到就默认为当天）\n",
    "        elif word != '':\n",
    "            if v in ['m', 't']:\n",
    "                word = word + k\n",
    "            else:\n",
    "                time_res.append(word)\n",
    "                word = ''\n",
    "        elif v in ['m', 't']:\n",
    "            word = k\n",
    "    if word != '':\n",
    "        time_res.append(word)\n",
    "    result = list(filter(lambda x: x is not None, [check_time_valid(w) for w in time_res]))\n",
    "    final_res = [parse_datetime(w) for w in result]\n",
    "    return [x for x in final_res if x is not None]"
   ]
  },
  {
   "cell_type": "code",
   "execution_count": 4,
   "metadata": {},
   "outputs": [],
   "source": [
    "def check_time_valid(word):\n",
    "    m = re.match('\\d+$', word)\n",
    "    if m:\n",
    "        if len(word) <=6:\n",
    "            return None\n",
    "    word1 = re.sub('[号 | 日]\\d+$', '日', word)\n",
    "    if word1 != word:\n",
    "        return check_time_valid(word1)\n",
    "    else:\n",
    "        return word1"
   ]
  },
  {
   "cell_type": "code",
   "execution_count": 17,
   "metadata": {},
   "outputs": [],
   "source": [
    "def parse_datetime(msg):\n",
    "    if msg is None or len(msg) == 0:\n",
    "        return None\n",
    "    \n",
    "    try:\n",
    "        dt = parse(msg, fuzzy=True)\n",
    "        return dt.strftime('%Y-%m-%d %H:%M:%S')\n",
    "    except Exception as e:\n",
    "        m = re.match(\n",
    "            r\"([0-9零一二两三四五六七八九十]+年)?([0-9一二两三四五六七八九十]+月)?([0-9一二两三四五六七八九十]+[号日])?([上中下午晚早]+)?([0-9零一二两三四五六七八九十百]+[点:\\.时])?([0-9零一二三四五六七八九十百]+分?)?([0-9零一二三四五六七八九十百]+秒)?\",\n",
    "            msg)\n",
    "        if m.group(0) is not None:\n",
    "            res = {\n",
    "                \"year\": m.group(1),\n",
    "                \"month\": m.group(2),\n",
    "                \"day\": m.group(3),\n",
    "                \"hour\": m.group(5) if m.group(5) is not None else '00',\n",
    "                \"minute\": m.group(6) if m.group(6) is not None else '00',\n",
    "                \"second\": m.group(7) if m.group(7) is not None else '00',}\n",
    "            params = {}\n",
    "\n",
    "            for name in res:\n",
    "                if res[name] is not None and len(res[name]) != 0:\n",
    "                    tmp = None\n",
    "                    if name == 'year':\n",
    "                        tmp = year2dig(res[name][:-1])\n",
    "                    else:\n",
    "                        tmp = cn2dig(res[name][:-1])\n",
    "                    if tmp is not None:\n",
    "                        params[name] = int(tmp)\n",
    "            target_date = datetime.today().replace(**params)\n",
    "            is_pm = m.group(4)\n",
    "            if is_pm is not None:\n",
    "                if is_pm == u'下午' or is_pm == u'晚上' or is_pm =='中午':\n",
    "                    hour = target_date.time().hour\n",
    "                    if hour < 12:\n",
    "                        target_date = target_date.replace(hour=hour + 12)\n",
    "            return target_date.strftime('%Y-%m-%d %H:%M:%S')\n",
    "        else:\n",
    "            return None"
   ]
  },
  {
   "cell_type": "code",
   "execution_count": 18,
   "metadata": {},
   "outputs": [],
   "source": [
    "UTIL_CN_NUM = {\n",
    "    '零': 0, '一': 1, '二': 2, '两': 2, '三': 3, '四': 4,\n",
    "    '五': 5, '六': 6, '七': 7, '八': 8, '九': 9,\n",
    "    '0': 0, '1': 1, '2': 2, '3': 3, '4': 4,\n",
    "    '5': 5, '6': 6, '7': 7, '8': 8, '9': 9\n",
    "}\n",
    "\n",
    "UTIL_CN_UNIT = {'十': 10, '百': 100, '千': 1000, '万': 10000}"
   ]
  },
  {
   "cell_type": "code",
   "execution_count": 19,
   "metadata": {},
   "outputs": [],
   "source": [
    "def cn2dig(src):\n",
    "    if src == \"\":\n",
    "        return None\n",
    "    m = re.match(\"\\d+\", src)\n",
    "    if m:\n",
    "        return int(m.group(0))\n",
    "    rsl = 0\n",
    "    unit = 1\n",
    "    for item in src[::-1]:\n",
    "        if item in UTIL_CN_UNIT.keys():\n",
    "            unit = UTIL_CN_UNIT[item]\n",
    "        elif item in UTIL_CN_NUM.keys():\n",
    "            num = UTIL_CN_NUM[item]\n",
    "            rsl += num * unit\n",
    "        else:\n",
    "            return None\n",
    "    if rsl < unit:\n",
    "        rsl += unit\n",
    "    return rsl\n",
    "\n",
    "def year2dig(year):\n",
    "    res = ''\n",
    "    for item in year:\n",
    "        if item in UTIL_CN_NUM.keys():\n",
    "            res = res + str(UTIL_CN_NUM[item])\n",
    "        else:\n",
    "            res = res + item\n",
    "    m = re.match(\"\\d+\", res)\n",
    "    if m:\n",
    "        if len(m.group(0)) == 2:\n",
    "            return int(datetime.datetime.today().year/100)*100 + int(m.group(0))\n",
    "        else:\n",
    "            return int(m.group(0))\n",
    "    else:\n",
    "        return None\n"
   ]
  },
  {
   "cell_type": "code",
   "execution_count": 39,
   "metadata": {},
   "outputs": [],
   "source": [
    "text1 = '我要住到明天下午三点'"
   ]
  },
  {
   "cell_type": "code",
   "execution_count": 40,
   "metadata": {},
   "outputs": [
    {
     "name": "stdout",
     "output_type": "stream",
     "text": [
      "['2019-08-06 00:00:00']\n"
     ]
    }
   ],
   "source": [
    "print(time_extract(text1))"
   ]
  },
  {
   "cell_type": "code",
   "execution_count": null,
   "metadata": {},
   "outputs": [],
   "source": []
  }
 ],
 "metadata": {
  "kernelspec": {
   "display_name": "Python 3",
   "language": "python",
   "name": "python3"
  },
  "language_info": {
   "codemirror_mode": {
    "name": "ipython",
    "version": 3
   },
   "file_extension": ".py",
   "mimetype": "text/x-python",
   "name": "python",
   "nbconvert_exporter": "python",
   "pygments_lexer": "ipython3",
   "version": "3.6.7"
  }
 },
 "nbformat": 4,
 "nbformat_minor": 2
}
