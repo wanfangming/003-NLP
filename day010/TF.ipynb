{
 "cells": [
  {
   "cell_type": "code",
   "execution_count": 1,
   "metadata": {},
   "outputs": [],
   "source": [
    "import jieba"
   ]
  },
  {
   "cell_type": "code",
   "execution_count": 5,
   "metadata": {},
   "outputs": [],
   "source": [
    "# 读取txt文档改进版\n",
    "filename = '献血.txt'\n",
    "def get_txt_content(filename):\n",
    "    with open(filename, 'r', errors='ignore') as f:\n",
    "        text = ''\n",
    "        for l in f:\n",
    "            l = l.strip()\n",
    "            text += l\n",
    "        return text"
   ]
  },
  {
   "cell_type": "code",
   "execution_count": 6,
   "metadata": {},
   "outputs": [
    {
     "name": "stderr",
     "output_type": "stream",
     "text": [
      "Building prefix dict from the default dictionary ...\n",
      "Loading model from cache C:\\Users\\ADMINI~1\\AppData\\Local\\Temp\\jieba.cache\n",
      "Loading model cost 0.957 seconds.\n",
      "Prefix dict has been built succesfully.\n"
     ]
    }
   ],
   "source": [
    "text = get_txt_content(filename)\n",
    "# 精确模式\n",
    "seg_list = jieba.cut(text, cut_all=False)\n",
    "#print(u\"[精确模式]: \", \"/ \".join(seg_list))\n",
    "seg_list = list(seg_list)"
   ]
  },
  {
   "cell_type": "code",
   "execution_count": 17,
   "metadata": {},
   "outputs": [
    {
     "name": "stdout",
     "output_type": "stream",
     "text": [
      "{'世界': 1, '献血': 2, '日': 1, '学校': 1, '团体': 1, '服务': 1, '志愿者': 1, '等': 1, '可到': 1, '血液': 2, '中心': 1, '参观': 1, '检验': 2, '加工过程': 1, '我们': 1, '会': 1, '对': 1, '结果': 1, '进行': 2, '公示': 2, '同事': 1, '的': 1, '价格': 1, '也': 1, '将': 1}\n"
     ]
    }
   ],
   "source": [
    "# 使用字典实现统计list中各元素出现次数\n",
    "words_dict = {}\n",
    "stop_words = ['，', '、', '。']\n",
    "for key in seg_list:\n",
    "    if key not in stop_words:\n",
    "        words_dict[key] = words_dict.get(key, 0) + 1\n",
    "print(words_dict)"
   ]
  },
  {
   "cell_type": "code",
   "execution_count": 31,
   "metadata": {},
   "outputs": [
    {
     "name": "stdout",
     "output_type": "stream",
     "text": [
      "30\n"
     ]
    }
   ],
   "source": [
    "# 获取单词总数\n",
    "all_numbers = 0\n",
    "for k in words_dict:\n",
    "    all_numbers += words_dict[k]\n"
   ]
  },
  {
   "cell_type": "code",
   "execution_count": 33,
   "metadata": {},
   "outputs": [
    {
     "name": "stdout",
     "output_type": "stream",
     "text": [
      "{'世界': 0.03333333333333333, '献血': 0.06666666666666667, '日': 0.03333333333333333, '学校': 0.03333333333333333, '团体': 0.03333333333333333, '服务': 0.03333333333333333, '志愿者': 0.03333333333333333, '等': 0.03333333333333333, '可到': 0.03333333333333333, '血液': 0.06666666666666667, '中心': 0.03333333333333333, '参观': 0.03333333333333333, '检验': 0.06666666666666667, '加工过程': 0.03333333333333333, '我们': 0.03333333333333333, '会': 0.03333333333333333, '对': 0.03333333333333333, '结果': 0.03333333333333333, '进行': 0.06666666666666667, '公示': 0.06666666666666667, '同事': 0.03333333333333333, '的': 0.03333333333333333, '价格': 0.03333333333333333, '也': 0.03333333333333333, '将': 0.03333333333333333}\n"
     ]
    }
   ],
   "source": [
    "tf_dict = {}\n",
    "for key in words_dict:\n",
    "    tf_dict[key] = words_dict[key] / all_numbers\n",
    "    \n",
    "print(tf_dict)"
   ]
  },
  {
   "cell_type": "code",
   "execution_count": null,
   "metadata": {},
   "outputs": [],
   "source": []
  }
 ],
 "metadata": {
  "kernelspec": {
   "display_name": "Python 3",
   "language": "python",
   "name": "python3"
  },
  "language_info": {
   "codemirror_mode": {
    "name": "ipython",
    "version": 3
   },
   "file_extension": ".py",
   "mimetype": "text/x-python",
   "name": "python",
   "nbconvert_exporter": "python",
   "pygments_lexer": "ipython3",
   "version": "3.7.3"
  }
 },
 "nbformat": 4,
 "nbformat_minor": 2
}
